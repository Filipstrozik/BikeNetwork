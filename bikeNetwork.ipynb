{
 "cells": [
  {
   "cell_type": "code",
   "execution_count": 2,
   "metadata": {},
   "outputs": [],
   "source": [
    "import pandas as pd\n",
    "import numpy as np\n",
    "import matplotlib.pyplot as plt\n",
    "import seaborn as sns\n",
    "import os\n",
    "import sys\n",
    "import datetime\n",
    "import networkx as nx\n"
   ]
  },
  {
   "cell_type": "code",
   "execution_count": 10,
   "metadata": {},
   "outputs": [],
   "source": [
    "from operator import itemgetter"
   ]
  },
  {
   "cell_type": "markdown",
   "metadata": {},
   "source": [
    "# podejście biznesowe:\n",
    "\n",
    "2. Posiadamy dane (np. przekazane przez klienta lub pozyskane przy okazji\n",
    "innych projektów) i zastanawiamy się jakie interesujące problemy badawcze\n",
    "możemy przy ich pomocy rozwiązać, na jakie interesujące pytania badawcze\n",
    "możemy znaleźć odpowiedź."
   ]
  },
  {
   "cell_type": "code",
   "execution_count": 3,
   "metadata": {},
   "outputs": [
    {
     "name": "stderr",
     "output_type": "stream",
     "text": [
      "C:\\Users\\filip\\AppData\\Local\\Temp\\ipykernel_15484\\1373750519.py:1: DtypeWarning: Columns (2,4) have mixed types. Specify dtype option on import or set low_memory=False.\n",
      "  df = pd.read_csv(\"cleaned_bike.csv\")\n"
     ]
    }
   ],
   "source": [
    "df = pd.read_csv(\"cleaned_bike.csv\")"
   ]
  },
  {
   "cell_type": "code",
   "execution_count": 5,
   "metadata": {},
   "outputs": [],
   "source": [
    "df[[\"departure\", \"return\"]] = df[[\"departure\", \"return\"]].apply(pd.to_datetime)"
   ]
  },
  {
   "cell_type": "code",
   "execution_count": 22,
   "metadata": {},
   "outputs": [],
   "source": [
    "# create a dictionary of stations key:departure_name ,values: latitute and longitude columns\n",
    "departure_stations_dict = dict(zip(df['departure_name'], zip(df['departure_latitude'], df['departure_longitude'])))\n",
    "return_stations_dict = dict(zip(df['return_name'], zip(df['return_latitude'], df['return_longitude'])))\n"
   ]
  },
  {
   "cell_type": "code",
   "execution_count": 23,
   "metadata": {},
   "outputs": [],
   "source": [
    "# merge the two dictionaries\n",
    "stations_dict = {**departure_stations_dict, **return_stations_dict}"
   ]
  },
  {
   "cell_type": "code",
   "execution_count": 24,
   "metadata": {},
   "outputs": [
    {
     "name": "stdout",
     "output_type": "stream",
     "text": [
      "{'Kuusitie': (60.1952452, 24.9018997), 'Kamppi (M)': (60.1686095, 24.9305373), 'Porolahden koulu': (60.19553971683871, 25.053580944057305), 'Vallipolku': (60.227827, 24.819614), 'Länsisatamankatu': (60.1589276, 24.909692), 'Radiokatu': (60.20499, 24.918419), 'Tyynenmerenkatu': (60.156838, 24.920661), 'Itämerentori': (60.1635309, 24.9145165), 'Koskelantie': (60.208749, 24.9465139), 'Rautatieläisenkatu': (60.2014382, 24.9332721), 'Töölönkatu': (60.1775598, 24.9283272), 'Roihupelto': (60.209287, 25.055528), 'Vilhonvuorenkatu': (60.1864633, 24.9678718), 'Näkinsilta': (60.179765, 24.9554618), 'Senaatintori': (60.1691278, 24.9526414), 'Olympiastadion': (60.1845055, 24.9249741), 'Tilkanvierto': (60.1975329, 24.899261), 'Rautatientori / länsi': (60.1706061, 24.9397601), 'Pohjankulma': (60.18288, 24.794014), 'Tulisuontie': (60.20207298671284, 25.060046596074795), 'Päijänteentie': (60.1920576, 24.9642238), 'Esterinportti': (60.1975724, 24.9267808), 'Brahen puistikko': (60.1896706, 24.9481024), 'Kiasma': (60.1712579, 24.9374279), 'Hietalahdentori': (60.1622251, 24.9297099), 'Kanavaranta': (60.168384, 24.9583814), 'Porthania': (60.16986222858, 24.9481463998), 'Stenbäckinkatu': (60.1883091, 24.9123717), 'Säterinniitty': (60.214666, 24.800486), 'Rautatientori / itä': (60.1708236, 24.9425268), 'Perämiehenkatu': (60.1600875931318, 24.9340656851357), 'Kapteeninpuistikko': (60.1581892, 24.9449274), 'Ympyrätalo': (60.180863, 24.9494), 'Arabian kauppakeskus': (60.2027912, 24.9666128), 'Viiskulma': (60.1609859, 24.9417758), 'Siilitie (M)': (60.20596244959136, 25.04516115672629), 'Eläinmuseo': (60.1713589074265, 24.9318975121428), 'Paavalinpuisto': (60.1974886, 24.9614385), 'Vanha Viertotie': (60.21107529627341, 24.881660254358646), 'Marian sairaala': (60.1680998, 24.9220763), 'Laajalahden aukio': (60.19793090756802, 24.876221716500662), 'Korjaamo': (60.1838677, 24.9198371), 'Heikkilänaukio': (60.1540763, 24.8793159), 'Kiskontie': (60.1989402, 24.9012997), 'Käpyläntie': (60.2139043, 24.9588108), 'Ooppera': (60.1825529, 24.926687), 'Jalavatie': (60.1934696, 24.905889), 'Piispankallio': (60.168441, 24.743532), 'Kansallismuseo': (60.1739641, 24.9329875), 'Haukilahdenkatu': (60.1985314, 24.9676708), 'Eteläinen Hesperiankatu': (60.17558787407832, 24.915662751685453), 'Töölönlahden puisto': (60.174646, 24.935186), 'Liisanpuistikko': (60.1741822, 24.9613747), 'Verkatehtaanpuisto': (60.2137007, 24.9797283), 'Munkkiniemen aukio': (60.1967196, 24.8840917), 'Leppävaaran urheilupuisto': (60.224943, 24.800971), 'Unioninkatu': (60.1674573, 24.9510227), 'Elimäenkatu': (60.1962627, 24.9476186), 'Heikkiläntie': (60.156817, 24.8850653), 'Mastokatu': (60.1647545, 24.9674861), 'Agnetankuja': (60.187234122757424, 25.036412289626025), 'Baana': (60.164088, 24.9225658), 'Mamsellimyllynkatu': (60.21825196984328, 25.05910387617357), 'Jäähalli': (60.1894025, 24.9205978), 'Nordenskiöldinaukio': (60.18523632967096, 24.91724984112588), 'Voikukantie': (60.20899759942336, 25.0867821055208), 'Laivasillankatu': (60.160959094315416, 24.95634747175871), 'Kulosaari (M)': (60.188950088551046, 25.006566530899704), 'Kasarmitori': (60.1650171805, 24.94947287873), 'Fleminginkatu': (60.1895417, 24.9521601), 'Kalasatama (M)': (60.18755649, 24.9770684), 'Jätkäsaarenlaituri': (60.1619311, 24.9214896), 'Kaivopuisto': (60.15544479382098, 24.95029288969032), 'Herttoniemi (M)': (60.194614624348006, 25.02887208274608), 'Brahen kenttä': (60.1868618, 24.9509168), 'Töölönlahdenkatu': (60.17219068, 24.93930791), 'Ruskeasuon varikko': (60.20767995961701, 24.89866789062813), 'Petter Wetterin tie': (60.19313762536413, 25.031111942585127), 'Katariina Saksilaisen katu': (60.217214807977534, 24.98442007835869), 'Mannerheimintie': (60.1690724, 24.9394195), 'Viikin normaalikoulu': (60.227495295832895, 25.02761893353016), 'Tilkantori': (60.2028392, 24.8934761), 'Paciuksenkatu': (60.191524, 24.901008), 'Kirkkoherrantie': (60.22493036511101, 24.972819375145058), 'Varsapuistikko': (60.1731029004969, 24.9495192737191), 'Marjaniementie': (60.20432489166999, 25.07606935994523), 'Intiankatu': (60.2078582, 24.9676383), 'Kauppakorkeakoulu': (60.1711591, 24.924961), 'Myllypuro (M)': (60.22408646778726, 25.075395792228694), 'Herttoniemenranta': (60.19021014587901, 25.026065710136564), 'Linnanmäki': (60.1911411, 24.9401593), 'Viikin tiedepuisto': (60.227520671727405, 25.01006206113976), 'Gyldenintie': (60.1583842, 24.8766658), 'Piispanportti': (60.165603, 24.732688), 'Mustikkamaa': (60.181861779166056, 24.992037110168354), 'Lintulahdenkatu': (60.1837182, 24.9621936), 'Merisotilaantori': (60.1678703, 24.9755341), 'Sepetlahdentie': (60.152343, 24.741234), 'Sepänkatu': (60.1579483, 24.9362853), 'Kesäkatu': (60.1792967, 24.9132504), 'Sörnäinen (M)': (60.187736, 24.96098), 'Kuunkatu': (60.172673, 24.726025), 'Ahertajantie': (60.17875, 24.797984), 'Velodrominrinne': (60.2010614, 24.9440506), 'Niittykumpu (M)': (60.170758, 24.763184), 'Arabiankatu': (60.20649156514502, 24.977079011778606), 'Matinkyläntie': (60.155689, 24.744978), 'Pitäjänmäen asema': (60.22431428805152, 24.85863812462164), 'Hakalehto': (60.173567, 24.79139), 'Laivalahden puistotie': (60.18795810306132, 25.031385306773423), 'Narinkka': (60.1700420359, 24.93460698), 'Hollolantie': (60.19588479865, 24.95453389981), 'Lastenlehto': (60.1658121, 24.927021), 'Albertinkatu': (60.1618359, 24.9368179), 'Länsituuli': (60.175358, 24.802049), 'Isoisänsilta': (60.18265182058, 24.98179260578), 'Puotilan ostoskeskus': (60.21270057142605, 25.095559512793297), 'Kustaankatu': (60.1882752174, 24.95597593163), 'Eteläesplanadi': (60.16723083051, 24.94746581951), 'Huopalahdentie': (60.1996653, 24.8836209), 'Vanha Kauppahalli': (60.165343, 24.953535), 'Paciuksenkaari': (60.1944475, 24.8911179), 'Käpylän asema': (60.2208057097763, 24.9479290250383), 'Westendinasema': (60.168266, 24.805758), 'Puotila (M)': (60.21482071331432, 25.09112452769074), 'Kalevalantie': (60.184765, 24.804022), 'Designmuseo': (60.1631032, 24.94596), 'Piispansilta': (60.162403, 24.738416), 'Takomotie': (60.2178996331627, 24.8710464686467), 'Muusantori': (60.2071193, 24.8559544), 'Urheilupuisto (M)': (60.17465, 24.779428), 'Sammonpuistikko': (60.1731473, 24.9224112), 'Orpaanporras': (60.22356519670723, 25.0654218381558), 'Keilaniemi (M)': (60.175233, 24.82895), 'Teljäntie': (60.20969562580255, 24.868739477207995), 'Korppaanmäentie': (60.2034735, 24.8989297), 'Aulangontie': (60.23030192663912, 24.998533819860555), 'Hietaniemenkatu': (60.1733331557525, 24.907670424697), 'Ulvilantie': (60.2038803, 24.8708833), 'Töölöntori': (60.1791231, 24.9249114), 'Pohjolanaukio': (60.2172043, 24.9544112), 'Suomenlahdentie': (60.160015, 24.741294), 'Gunillantie': (60.171980271468335, 25.032968849816825), 'Venttiilikuja': (60.1942095, 24.941578), 'Auringonkatu': (60.171548, 24.731472), 'Luoteisväylä': (60.1654485, 24.8601992), 'Friisilänaukio': (60.162842, 24.721367), 'Annankatu': (60.16345894291, 24.94177084206), 'Painiitty': (60.235089, 24.831397), 'Asentajanpuisto': (60.19912713758262, 25.042592465753465), 'Rajasaarentie': (60.183137, 24.911127), 'Muurarinkuja': (60.223769, 24.812271), 'Seurasaari': (60.188399, 24.8847362), 'Melkonkuja': (60.1498127, 24.8861094), 'Niittymaa': (60.171127, 24.775913), 'Ritarikatu': (60.17110664588, 24.95555819284), 'Ruomelantie': (60.174524, 24.729314), 'Thalianaukio': (60.22534052315868, 24.894792651160333), 'Pihlajamäki': (60.234578571034135, 25.01031390508104), 'Agronominkatu': (60.2340530100318, 25.032857400999006), 'Vallikatu': (60.228463, 24.813871), 'Säteri': (60.213443, 24.811572), 'Otaranta': (60.18483, 24.837133), 'Puistokaari': (60.157875, 24.86202), 'Betonimies': (60.180027, 24.831804), 'Westendintie': (60.158194, 24.791754), 'Linnakepolku': (60.1637, 24.790132), 'Gallen-Kallelan tie': (60.206142, 24.840699), 'Kuikkarinne': (60.15708560052, 24.86930605276), 'A.I. Virtasen aukio': (60.205577, 24.962152), 'Mäkkylän asema': (60.220467, 24.83939), 'Hakaniemi (M)': (60.17810631604, 24.95218124892), 'Leppävaaranaukio': (60.218731, 24.814828), 'Pernajantie': (60.1942342, 24.9579931), 'Haakoninlahdenkatu': (60.16886855835367, 25.020860955309665), 'Ratsutori': (60.217311, 24.812419), 'Siltavoudintie': (60.23370685633967, 24.96539507775229), 'Tenholantie': (60.2024393, 24.9054609), 'Mäkitorpantie': (60.230141, 24.962531), 'Kulttuuriaukio': (60.177588, 24.803942), 'Nuottaniementie': (60.147921, 24.741546), 'Teollisuuskatu': (60.193486, 24.9487524), 'Juhana Herttuan tie': (60.2184427, 24.9664619), 'Keilaranta': (60.178762, 24.835132), 'Salmisaarenranta': (60.16478138043, 24.90096080349), 'Metsänneidonpolku': (60.186731, 24.806152), 'Itäkeskus (M)': (60.20960066552812, 25.07596801515546), 'Reiherintie': (60.16773050334599, 25.047496264887712), 'Töölöntulli': (60.19095693226663, 24.91282713542788), 'Mankkaanaukio': (60.194599, 24.769021), 'Leppävaarankäytävä': (60.220254, 24.813437), 'Saunalahdentie': (60.1926305828, 24.87922144235), 'Hertanmäenkatu': (60.202539, 24.922458), 'Rummunlyöjänkatu': (60.217261, 24.806279), 'Koskelan varikko': (60.212701, 24.969956), 'Kirjurinkuja': (60.21669478856165, 24.82643506468404), 'Teurastamo': (60.1896994, 24.9711926), 'Torpanranta': (60.1948358, 24.8713963), 'Linnuntie': (60.234401, 24.813954), 'Kylävoudintie': (60.22440378465167, 24.95256124358972), 'Hernepellontie': (60.22421214100464, 24.98860011548657), 'Eerikinkatu': (60.1673332, 24.9357851), 'Toinen linja': (60.183164, 24.9441949), 'Hanasaari': (60.16582, 24.840319), 'Margareetankuja': (60.19100958139025, 25.037070035460086), 'Mankkaanlaaksontie': (60.188706, 24.780478), 'Orionintie': (60.180118, 24.771826), 'Kriikunakuja': (60.2056785, 24.8916817), 'Aalto-yliopisto (M), Korkeakouluaukio': (60.184312, 24.826671), 'Mäkelänkatu': (60.1896352, 24.9635596), 'Revontulentie': (60.171551, 24.802938), 'Mellstenintie': (60.154941, 24.773993), 'Karhulantie': (60.21860147844144, 25.10232484990167), 'Nelikkotie': (60.161588, 24.74663), 'Outotec': (60.163412, 24.742219), 'Pajamäki': (60.218807358014985, 24.85566795479381), 'Tekniikantie': (60.180806, 24.824747), 'Itälahdenkatu': (60.15066, 24.8812502), 'Läkkitori': (60.221019, 24.813109), 'Postipuun koulu': (60.223827, 24.826396), 'Komeetankatu': (60.167216, 24.735969), 'Valimotie': (60.21592223543679, 24.87646479282845), 'Hauenkalliontie': (60.161138, 24.756272), 'Isosaarentie': (60.17549032254954, 25.04490070593989), 'Aalto-yliopisto (M), Tietotie': (60.184987, 24.820099), 'Toppelundintie': (60.1591405, 24.782477), 'Peukaloisentie': (60.1987054995554, 25.05854933123242), 'Tiistinkallio': (60.153737, 24.729112), 'Tammisalon aukio': (60.19164687919301, 25.06118417092495), 'Olarinluoma': (60.180848, 24.760606), 'Puotilantie': (60.20905963366239, 25.100426060233303), 'Etuniementie': (60.160645, 24.724835), 'Leppävaaran uimahalli': (60.226379, 24.804735), 'Vihdintie': (60.208925, 24.8895209), 'Tapionaukio': (60.176168, 24.805825), 'Lystimäensilta': (60.17471, 24.752442), 'Arielinkatu': (60.185922, 24.979739), 'Relanderinaukio': (60.18588749805257, 25.00601922389024), 'Vallilan\\xa0varikko': (60.195225, 24.962832), 'Otsolahti': (60.178655, 24.817423), 'Otto Brandtin tie': (60.23178406584145, 24.978138919040457), 'Matinlahdenranta': (60.151041, 24.754196), 'Tapiolan urheilupuisto': (60.177749, 24.784654), 'Huopalahden asema': (60.218088561019165, 24.89505934373838), 'Lepolantie': (60.23910894200569, 24.92859501499382), 'Herttoniemen kirkko': (60.19844295116548, 25.032112127941765), 'Kalkkipellonmäki': (60.220551, 24.833536), 'Valimon asema': (60.22229427877046, 24.875870912746144), 'Pohjolankatu': (60.213421, 24.9437964), 'Abraham Wetterin tie': (60.19270789626325, 25.042580274921047), 'Tiistiläntie': (60.156755, 24.737664), 'Gebhardinaukio': (60.190857, 24.956262), 'Louhentori': (60.18715, 24.796959), 'Ehrenströmintie': (60.155309, 24.9591271), 'Messeniuksenkatu': (60.1878352, 24.9180102), 'Cygnaeuksenkatu': (60.174063715, 24.92822758053), 'Tupasaarentie': (60.187998177032696, 25.015391648483803), 'Mäntyviita': (60.178702, 24.810974), 'Meilahden sairaala': (60.1902195, 24.9083351), 'Keilalahti': (60.171524, 24.827467), 'Leppäsuonaukio': (60.16957343209, 24.92659049777), 'Vanha kirkkopuisto': (60.1652883, 24.9391499), 'Vesakkotie': (60.22794236805671, 24.92656476426376), 'Apollonkatu': (60.1760798, 24.9223942), 'Laajalahden keskus': (60.203892, 24.80493), 'Siilitie 13': (60.215063371665806, 25.04379377901174), 'Majurinkulma': (60.210735, 24.824954), 'Yhdyskunnankuja': (60.212508, 24.819549), 'Länsisatamankuja': (60.15693191359567, 24.912200440174857), 'Itäportti': (60.174914, 24.738122), 'Siilitie 9': (60.20947670530612, 25.03748221566049), 'Pohjois-Haagan asema': (60.230151499496536, 24.88312884546424), 'Opastinsilta': (60.199235425819, 24.937826370875783), 'Marjaniemi': (60.20360955659899, 25.086296156701028), 'Laajasalon ostoskeskus': (60.18009213610057, 25.05188370479307), 'Komentajankatu': (60.216222, 24.821932), 'Huovitie': (60.22197553556329, 24.903286646676616), 'Haukilahdenaukio': (60.162396, 24.775882), 'Sofianlehdonkatu': (60.2032721, 24.9513636), 'Jännetie': (60.226769960915966, 24.85354095884256), 'Kalevankatu': (60.16568, 24.931422), 'Matinkartanontie': (60.156258, 24.752489), 'Avaruuskatu': (60.168971, 24.724908), 'Von Daehnin katu': (60.23033717886547, 25.04356806988234), 'Haukilahdenranta': (60.158048, 24.769864), 'Gransinmäki': (60.222154, 24.804898), 'Ruutikatu': (60.223377, 24.820635), 'Säterinrinne': (60.214193, 24.805613), 'Innopoli': (60.185096, 24.81422), 'Humalniementie': (60.18374384938291, 25.05303785910193), 'Lauttasaaren ostoskeskus': (60.1603306, 24.8815441), 'Lystimäki': (60.172814, 24.745666), 'Eränkävijäntori': (60.204561663649095, 25.033597412211737), 'Hernesaarenranta': (60.15352968178976, 24.93125406706023), 'Lukutori': (60.187086, 24.742936), 'Prinsessantie': (60.206340232662725, 25.06009233354084), 'Koivu-Mankkaa': (60.182976, 24.78576), 'Pasilan asema': (60.198210866794, 24.9327990790329), 'Upseerinkatu': (60.216067, 24.819396), 'Marttila': (60.227143233822176, 24.873227365442304), 'Tietäjä': (60.189143, 24.807083), 'Merihaka': (60.17806592826971, 24.958452215046275), 'Hagalundinpuisto': (60.18363, 24.817403), 'Alakiventie': (60.21985096601641, 25.077470244052627), 'Nokkala': (60.147974, 24.754344), 'Puotinkylän kartano': (60.21250990784526, 25.10619874297898), 'Toppelundinportti': (60.1624471, 24.7848628), 'Tunnelitie': (60.21661653745581, 24.89954369574049), 'Näyttelijäntie': (60.23285213757895, 24.887434554817386), 'Ilmalan asema': (60.206626437691405, 24.922219888430064), 'Haagan tori': (60.21227524113252, 24.89955113635681), 'Suurpellonaukio': (60.184596, 24.744131), 'Sähkömies': (60.188499, 24.829985), 'Uimastadion': (60.1892172, 24.9292286), 'Hauenkallio': (60.162477, 24.767831), 'Länsiterminaali': (60.150395628620245, 24.915862667368163), 'Kaisaniemenpuisto': (60.17319894172505, 24.943301000681707), 'Puotinharju': (60.21249416558419, 25.08232209439382), 'Jämeräntaival': (60.188118, 24.835033), 'Lauttasaarensilta': (60.1611858260783, 24.8899154000946), 'Ratapihantie': (60.196431, 24.936256), 'Erottajan aukio': (60.166890083486, 24.9442610720753), 'Korkeasaari': (60.1799061407845, 24.9825269338027), 'Oulunkylän asema': (60.2291001633593, 24.9667185624346), 'Oravannahkatori': (60.175769, 24.792559), 'Maistraatintori': (60.199151, 24.924873), 'Kutsuntatie': (60.230453, 24.824561), 'Tontunmäentie': (60.176107, 24.769667), 'Golfpolku': (60.168143, 24.796136), 'Lehtisaarentie': (60.1818132200983, 24.8504396679317), 'Maarinranta': (60.18734696398579, 24.81075284439144), 'Lumivaarantie': (60.204669, 24.814268), 'Tuulimäki': (60.174144, 24.806051), 'Sateentie': (60.173424, 24.810688), 'Elfvik': (60.203852, 24.8231), 'Itäkeskus Metrovarikko': (60.211446, 25.065816), 'Muotoilijankatu': (60.209796, 24.979682), 'Haapaniemenkatu': (60.1831601181109, 24.9551952848703), 'Karhupuisto': (60.1842833, 24.9526763), 'Diakoniapuisto': (60.186979, 24.943358), 'Käskynhaltijantie': (60.2332319517011, 24.9579341169413), 'Hämeenlinnanväylä': (60.227451, 24.902832), 'Ida Aalbergin tie': (60.229488, 24.895199), 'Maunula': (60.2303828883575, 24.9325030021005), 'Kustaankartano': (60.2307028705708, 24.9487651621967), 'Kaapelitehdas': (60.1618133723859, 24.9065572669725), 'Derby Business Park': (60.209017, 24.835356)}\n",
      "347\n"
     ]
    }
   ],
   "source": [
    "print(stations_dict)\n",
    "print(len(stations_dict))"
   ]
  },
  {
   "cell_type": "code",
   "execution_count": 25,
   "metadata": {},
   "outputs": [],
   "source": [
    "def bikeNetwork(df, year=2017):\n",
    "    df_bike = df.copy()\n",
    "    df = df[df[\"departure\"].dt.year == year]\n",
    "    df_bike.dropna(inplace=True)\n",
    "\n",
    "    G = nx.Graph()\n",
    "    G = nx.from_pandas_edgelist(\n",
    "        df_bike,\n",
    "        \"departure_name\",\n",
    "        \"return_name\",\n",
    "        edge_attr=[\n",
    "            \"duration\",\n",
    "            \"distance\",\n",
    "            \"avg_speed\",\n",
    "            \"temperature\",\n",
    "        ],\n",
    "    )\n",
    "\n",
    "    for node in G.nodes:\n",
    "        G.nodes[node][\"coords\"] = stations_dict[node]\n",
    "\n",
    "    # due to fact that some nodes\n",
    "\n",
    "    return G\n",
    "\n",
    "\n",
    "G = bikeNetwork(df)"
   ]
  },
  {
   "cell_type": "code",
   "execution_count": 26,
   "metadata": {},
   "outputs": [
    {
     "name": "stdout",
     "output_type": "stream",
     "text": [
      "Type of G: <class 'networkx.classes.graph.Graph'>\n",
      "Number of nodes: 347\n",
      "Number of edges: 32883\n",
      "Average degree: 189.52737752161383\n",
      "Density of the graph: 0.5477669870566874\n",
      "Average closeness centrality: 0.6936969404543839\n",
      "Average betweenness centrality: 0.001341094540767463\n",
      "Triadic closure: 0.7635677043925658\n",
      "\n",
      "Top 5 nodes by degree:\n",
      "\n",
      "('Haukilahdenkatu', 325)\n",
      "('Kaisaniemenpuisto', 290)\n",
      "('Paciuksenkaari', 277)\n",
      "('Korjaamo', 277)\n",
      "('Laajalahden aukio', 275)\n",
      "\n",
      "Top 5 nodes by betweenness centrality:\n",
      "\n",
      "('Haukilahdenkatu', 0.027158743962519577)\n",
      "('Kaisaniemenpuisto', 0.010592802375878235)\n",
      "('Mäkelänkatu', 0.005616409063680199)\n",
      "('Lehtisaarentie', 0.0044663365381278)\n",
      "('Itämerentori', 0.004148186838919667)\n"
     ]
    }
   ],
   "source": [
    "def networkStats(G):\n",
    "    print(\"Type of G:\", type(G))\n",
    "    print(\"Number of nodes:\", G.number_of_nodes())\n",
    "    print(\"Number of edges:\", G.number_of_edges())\n",
    "\n",
    "    degrees = dict(G.degree())\n",
    "    avg_degree = np.mean(list(degrees.values()))\n",
    "    print(\"Average degree:\", avg_degree)\n",
    "\n",
    "    density = nx.density(G)\n",
    "    print(\"Density of the graph:\", density)\n",
    "\n",
    "    closeness = nx.closeness_centrality(G)\n",
    "    avg_closeness = np.mean(list(closeness.values()))\n",
    "    print(\"Average closeness centrality:\", avg_closeness)\n",
    "\n",
    "    betweenness = nx.betweenness_centrality(G)\n",
    "    avg_betweenness = np.mean(list(betweenness.values()))\n",
    "    print(\"Average betweenness centrality:\", avg_betweenness)\n",
    "\n",
    "    triadic_closure = nx.transitivity(G)\n",
    "    print(\"Triadic closure:\", triadic_closure)\n",
    "\n",
    "    degree_dict = dict(G.degree(G.nodes()))\n",
    "    nx.set_node_attributes(G, degree_dict, \"degree\")\n",
    "\n",
    "    sorted_degree = sorted(degree_dict.items(), key=itemgetter(1), reverse=True)\n",
    "    print(\"\\nTop 5 nodes by degree:\\n\")\n",
    "    for d in sorted_degree[:5]:\n",
    "        print(d)\n",
    "\n",
    "    sorted_betweenness = sorted(betweenness.items(), key=itemgetter(1), reverse=True)\n",
    "\n",
    "    print(\"\\nTop 5 nodes by betweenness centrality:\\n\")\n",
    "    for b in sorted_betweenness[:5]:\n",
    "        print(b)\n",
    "\n",
    "\n",
    "networkStats(G)"
   ]
  }
 ],
 "metadata": {
  "kernelspec": {
   "display_name": "PMG",
   "language": "python",
   "name": "python3"
  },
  "language_info": {
   "codemirror_mode": {
    "name": "ipython",
    "version": 3
   },
   "file_extension": ".py",
   "mimetype": "text/x-python",
   "name": "python",
   "nbconvert_exporter": "python",
   "pygments_lexer": "ipython3",
   "version": "3.11.8"
  }
 },
 "nbformat": 4,
 "nbformat_minor": 2
}
